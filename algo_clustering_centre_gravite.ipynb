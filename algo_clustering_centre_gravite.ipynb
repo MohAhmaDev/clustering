{
 "cells": [
  {
   "cell_type": "code",
   "execution_count": 3,
   "id": "61e02a93",
   "metadata": {},
   "outputs": [],
   "source": [
    "import pandas as pd\n",
    "import numpy as np\n",
    "import random as ra\n",
    "from scipy.spatial import distance\n",
    "from matplotlib import pyplot as plt\n",
    "from sklearn.cluster import KMeans\n",
    "from sklearn import datasets\n",
    "\n",
    "dataset = pd.read_csv('data_TV.csv', sep=\",\")\n",
    "dataset\n",
    "\n",
    "df = dataset.drop([\"first_air_date\",\"origin_country\",\"original_language\",\"name\",\"vote_average\",\"overview\"], axis=1).to_numpy().copy()\n",
    "dk = dataset.drop([\"first_air_date\",\"origin_country\",\"original_language\",\"name\",\"vote_average\",\"overview\"], axis=1).copy()\n",
    "\n",
    "dk = dk.iloc[:100]\n",
    "\n",
    "\n",
    "D = df.shape[1]\n",
    "det = []\n",
    "for i in range(0,100):\n",
    "    det.append(list(df[i]))\n",
    "    \n",
    "    \n",
    "T = len(det)\n",
    "k = 0\n",
    "Index = []\n",
    "dist = []"
   ]
  },
  {
   "cell_type": "code",
   "execution_count": 4,
   "id": "bf9ea9a1",
   "metadata": {},
   "outputs": [],
   "source": [
    "T = len(det)\n",
    "D = len(det[0])"
   ]
  },
  {
   "cell_type": "code",
   "execution_count": 5,
   "id": "84a25a93",
   "metadata": {},
   "outputs": [
    {
     "data": {
      "text/plain": [
       "[[30.104, 3071.0],\n",
       " [468.253, 10131.0],\n",
       " [95.667, 2615.0],\n",
       " [1511.996, 7220.0],\n",
       " [195.038, 1627.0],\n",
       " [106.235, 3909.0],\n",
       " [117.989, 4064.0],\n",
       " [103.762, 4422.0],\n",
       " [101.767, 3318.0],\n",
       " [89.893, 1450.0],\n",
       " [71.587, 3236.0],\n",
       " [280.696, 1184.0],\n",
       " [138.869, 2328.0],\n",
       " [280.96, 1562.0],\n",
       " [10.638, 127.0],\n",
       " [59.795, 1609.0],\n",
       " [51.144, 1475.0],\n",
       " [10.34, 761.0],\n",
       " [664.403, 820.0],\n",
       " [277.186, 1181.0],\n",
       " [48.446, 640.0],\n",
       " [64.215, 299.0],\n",
       " [13.838, 147.0],\n",
       " [71.952, 556.0],\n",
       " [18.833, 518.0],\n",
       " [32.411, 400.0],\n",
       " [64.764, 1064.0],\n",
       " [28.68, 484.0],\n",
       " [132.028, 1537.0],\n",
       " [42.624, 606.0],\n",
       " [83.455, 1060.0],\n",
       " [73.022, 485.0],\n",
       " [57.967, 705.0],\n",
       " [57.355, 346.0],\n",
       " [290.221, 481.0],\n",
       " [43.225, 862.0],\n",
       " [85.185, 1038.0],\n",
       " [15.796, 112.0],\n",
       " [29.437, 620.0],\n",
       " [36.9, 613.0],\n",
       " [60.796, 992.0],\n",
       " [17.059, 1098.0],\n",
       " [190.241, 741.0],\n",
       " [41.546, 1379.0],\n",
       " [104.81, 1050.0],\n",
       " [28.14, 790.0],\n",
       " [169.94, 1234.0],\n",
       " [26.256, 488.0],\n",
       " [14.332, 280.0],\n",
       " [28.387, 401.0],\n",
       " [13.735, 106.0],\n",
       " [27.071, 258.0],\n",
       " [54.052, 2944.0],\n",
       " [32.638, 415.0],\n",
       " [46.599, 710.0],\n",
       " [45.428, 376.0],\n",
       " [109.282, 248.0],\n",
       " [53.001, 573.0],\n",
       " [94.312, 1102.0],\n",
       " [65.386, 756.0],\n",
       " [39.022, 752.0],\n",
       " [81.647, 925.0],\n",
       " [36.411, 105.0],\n",
       " [24.582, 304.0],\n",
       " [49.586, 345.0],\n",
       " [17.431, 217.0],\n",
       " [35.284, 287.0],\n",
       " [38.305, 776.0],\n",
       " [52.045, 727.0],\n",
       " [58.424, 959.0],\n",
       " [130.984, 8355.0],\n",
       " [39.315, 598.0],\n",
       " [35.459, 274.0],\n",
       " [116.503, 579.0],\n",
       " [26.551, 202.0],\n",
       " [86.276, 3079.0],\n",
       " [76.066, 681.0],\n",
       " [40.686, 599.0],\n",
       " [22.975, 285.0],\n",
       " [88.086, 754.0],\n",
       " [75.43, 1192.0],\n",
       " [33.51, 172.0],\n",
       " [95.957, 492.0],\n",
       " [17.143, 455.0],\n",
       " [32.816, 210.0],\n",
       " [37.053, 954.0],\n",
       " [22.632, 240.0],\n",
       " [34.519, 244.0],\n",
       " [95.072, 4568.0],\n",
       " [45.644, 994.0],\n",
       " [13.229, 102.0],\n",
       " [83.402, 158.0],\n",
       " [561.148, 14027.0],\n",
       " [55.835, 375.0],\n",
       " [33.183, 333.0],\n",
       " [20.2, 266.0],\n",
       " [51.457, 580.0],\n",
       " [161.466, 1133.0],\n",
       " [50.202, 463.0],\n",
       " [13.114, 212.0]]"
      ]
     },
     "execution_count": 5,
     "metadata": {},
     "output_type": "execute_result"
    }
   ],
   "source": [
    "det"
   ]
  },
  {
   "cell_type": "code",
   "execution_count": 6,
   "id": "af57caa8",
   "metadata": {},
   "outputs": [
    {
     "name": "stdout",
     "output_type": "stream",
     "text": [
      "[98.08336999999995, 1325.9699999999996] [81.11885719999995, 1175.0931999999993]\n"
     ]
    },
    {
     "name": "stderr",
     "output_type": "stream",
     "text": [
      "C:\\Users\\Fujitsu\\AppData\\Local\\Temp\\ipykernel_6316\\4094963049.py:26: SettingWithCopyWarning: \n",
      "A value is trying to be set on a copy of a slice from a DataFrame\n",
      "\n",
      "See the caveats in the documentation: https://pandas.pydata.org/pandas-docs/stable/user_guide/indexing.html#returning-a-view-versus-a-copy\n",
      "  dk[x][i] = (dk[x][i]-u[k])/s[k]\n"
     ]
    }
   ],
   "source": [
    "u = [0 for i in range(D)]\n",
    "for i in det:\n",
    "    for k in range(D):\n",
    "        u[k] += i[k]/T\n",
    "\n",
    "def va(a, b):\n",
    "    if ((a-b) > 0):\n",
    "        return (a-b)\n",
    "    else:\n",
    "        return (-(a-b))\n",
    "        \n",
    "s = [0 for i in range(D)]\n",
    "for i in det:\n",
    "    for k in range(D):\n",
    "        s[k] += va(u[k], i[k])/T\n",
    "print(u, s)\n",
    "\n",
    "# centrer les données\n",
    "for i in range(T):\n",
    "    for k in range(D):\n",
    "        det[i][k] = (det[i][k]-u[k])/s[k]\n",
    "\n",
    "for i in range(dk.shape[0]):\n",
    "    k = 0\n",
    "    for x in dk:\n",
    "        dk[x][i] = (dk[x][i]-u[k])/s[k]\n",
    "        k += 1"
   ]
  },
  {
   "cell_type": "code",
   "execution_count": 7,
   "id": "e7f1a669",
   "metadata": {},
   "outputs": [],
   "source": [
    "m = [0 for i in range(D)]\n",
    "for i in det:\n",
    "    for x in range(D):\n",
    "        m[x] += (i[x]/T)\n",
    "\n",
    "def InList(G, k):\n",
    "    for i in G:\n",
    "        if (i == k):\n",
    "            return True\n",
    "    return False\n",
    "\n",
    "GB = []\n",
    "B = []\n",
    "k = 0\n",
    "G = {}\n",
    "\n",
    "\n",
    "for i in det:\n",
    "    GB.append(list(i))\n",
    "length = len(GB)-1\n",
    "\n",
    "\n",
    "while (len(GB) > 0):\n",
    "    #print(len(GB))\n",
    "    c1 = GB[ra.randint(0, len(GB)-1)]\n",
    "    G[k] = [c1]\n",
    "    distMin = np.linalg.norm(np.array(c1)-np.array(m))\n",
    "   \n",
    "    m = [0 for i in range(D)]\n",
    "    for i in GB:\n",
    "        for x in range(D):\n",
    "            m[x] += (i[x]/len(GB))\n",
    "\n",
    "\n",
    "    for i in range(len(GB)):\n",
    "        dist = np.linalg.norm(np.array(c1)-np.array(GB[i]))\n",
    "        if ((dist < distMin) and (c1 != GB[i])):\n",
    "            G[k].append(GB[i])\n",
    "\n",
    "    for i in G[k]:\n",
    "        if InList(GB, i):\n",
    "            GB.remove(i)\n",
    "    k += 1   \n",
    "\n",
    "\n"
   ]
  },
  {
   "cell_type": "code",
   "execution_count": 8,
   "id": "9840895b",
   "metadata": {},
   "outputs": [
    {
     "name": "stdout",
     "output_type": "stream",
     "text": [
      "on à  5 Groupe\n",
      "le groupe  1  à  74  éléments\n",
      "le groupe  2  à  12  éléments\n",
      "le groupe  3  à  4  éléments\n",
      "le groupe  4  à  9  éléments\n",
      "le groupe  5  à  1  éléments\n"
     ]
    }
   ],
   "source": [
    "\n",
    "print( \"on à \", k, \"Groupe\")\n",
    "som = 0\n",
    "for i in G:\n",
    "    print(\"le groupe \",i+1,\" à \", len(G[i]),\" éléments\")\n",
    "    som += len(G[i])"
   ]
  },
  {
   "cell_type": "code",
   "execution_count": 9,
   "id": "37d59777",
   "metadata": {},
   "outputs": [],
   "source": [
    "colone1 = []\n",
    "colone2 = []\n",
    "colone3 = []\n",
    "G[1]\n",
    "\n",
    "for i in G:\n",
    "    for x in G[i]:\n",
    "        colone1.append(x[0])\n",
    "        colone2.append(x[1])\n",
    "        colone3.append(i)"
   ]
  },
  {
   "cell_type": "code",
   "execution_count": 21,
   "id": "9babf5d0",
   "metadata": {},
   "outputs": [
    {
     "name": "stdout",
     "output_type": "stream",
     "text": [
      "on à  [5.708470828901179, 10.808529910648796] Groupe\n",
      "le groupe  1  à  76  éléments\n",
      "le groupe  2  à  12  éléments\n",
      "le groupe  3  à  1  éléments\n",
      "le groupe  4  à  9  éléments\n",
      "le groupe  5  à  2  éléments\n"
     ]
    },
    {
     "data": {
      "image/png": "[encoded data removed]",
      "text/plain": [
       "<Figure size 432x288 with 1 Axes>"
      ]
     },
     "metadata": {
      "needs_background": "light"
     },
     "output_type": "display_data"
    },
    {
     "data": {
      "image/png": "[encoded data removed]",
      "text/plain": [
       "<Figure size 432x288 with 1 Axes>"
      ]
     },
     "metadata": {
      "needs_background": "light"
     },
     "output_type": "display_data"
    }
   ],
   "source": [
    "print( \"on à \", k, \"Groupe\")\n",
    "som = 0\n",
    "for i in G:\n",
    "    print(\"le groupe \",i+1,\" à \", len(G[i]),\" éléments\")\n",
    "    som += len(G[i])\n",
    "plt.scatter(colone1, colone2, c=colone3)\n",
    "plt.show()\n",
    "\n",
    "plt.scatter(colone1, colone2, c=colone3)\n",
    "plt.show()\n"
   ]
  },
  {
   "cell_type": "code",
   "execution_count": 11,
   "id": "4dcfe0b6",
   "metadata": {},
   "outputs": [
    {
     "data": {
      "text/plain": [
       "<matplotlib.collections.PathCollection at 0x22d37d89eb0>"
      ]
     },
     "execution_count": 11,
     "metadata": {},
     "output_type": "execute_result"
    },
    {
     "data": {
      "image/png": "[encoded data removed]",
      "text/plain": [
       "<Figure size 432x288 with 1 Axes>"
      ]
     },
     "metadata": {
      "needs_background": "light"
     },
     "output_type": "display_data"
    }
   ],
   "source": [
    "model= KMeans(n_clusters=len(G))\n",
    "model.fit(dk)\n",
    "plt.scatter(dk.popularity, dk.vote_count, c=model.labels_, s=20)\n"
   ]
  },
  {
   "cell_type": "code",
   "execution_count": 12,
   "id": "da4cdee1",
   "metadata": {},
   "outputs": [],
   "source": [
    "g = {}\n",
    "for i in G:\n",
    "    g[i] = [0 for u in range(D)]\n",
    "    for j in G[i]:\n",
    "        for k in range(D):\n",
    "            g[i][k] += j[k]/len(G[0])\n",
    "            \n",
    "            \n",
    "Y = {}\n",
    "V = {}\n",
    "for i in G:\n",
    "    Y[i] = []\n",
    "    for x in G[i]:\n",
    "        nk = len(G[i])\n",
    "        a = (x[0] - g[0][0]) / nk\n",
    "        b = (x[1] - g[0][1]) / nk\n",
    "        Y[i].append([a,b])\n",
    "    V[i] = np.dot(np.array(Y[i]).T, np.array(Y[i]))\n",
    "    \n",
    "W = np.zeros((2,2))\n",
    "for i in g:\n",
    "    W += V[i]*(len(G[i])/T)\n",
    "W\n",
    "\n",
    "gn = [0 for i in range(D)]\n",
    "for i in df:\n",
    "    for k in range(D):\n",
    "        gn[k] += i[k]\n",
    "        \n",
    "S = {}\n",
    "for i in g:\n",
    "    a = (g[i][0] - gn[0]) * (len(G[i])/T)\n",
    "    b = (g[i][0] - gn[1]) * (len(G[i])/T)\n",
    "    S[i] = np.array([[a*a,a*b],[b*a, b*b]])\n",
    "\n",
    "B = np.zeros((2,2))\n",
    "for i in g:\n",
    "    B += S[i]*(len(G[i])/T)"
   ]
  },
  {
   "cell_type": "code",
   "execution_count": 13,
   "id": "f5a69dd1",
   "metadata": {},
   "outputs": [
    {
     "data": {
      "text/plain": [
       "{0: [-0.6467445748337141, -0.631241247330252],\n",
       " 1: [-0.0072620232503351695, 0.26656149026698034],\n",
       " 2: [0.4686927201661547, 0.30928104600899253],\n",
       " 3: [0.17983299315873383, -0.02543478529468404],\n",
       " 4: [0.005480884759161884, 0.0808334963489636]}"
      ]
     },
     "execution_count": 13,
     "metadata": {},
     "output_type": "execute_result"
    }
   ],
   "source": [
    "g"
   ]
  },
  {
   "cell_type": "code",
   "execution_count": 14,
   "id": "1299fa43",
   "metadata": {},
   "outputs": [
    {
     "data": {
      "text/plain": [
       "array([[9.98826089e+09, 1.01011849e+11],\n",
       "       [1.01011849e+11, 1.02153856e+12]])"
      ]
     },
     "execution_count": 14,
     "metadata": {},
     "output_type": "execute_result"
    }
   ],
   "source": [
    "B # matrice inter groupe"
   ]
  },
  {
   "cell_type": "code",
   "execution_count": 15,
   "id": "794fe072",
   "metadata": {},
   "outputs": [
    {
     "data": {
      "text/plain": [
       "array([[1.19906547, 0.6393734 ],\n",
       "       [0.6393734 , 1.07002336]])"
      ]
     },
     "execution_count": 15,
     "metadata": {},
     "output_type": "execute_result"
    }
   ],
   "source": [
    "W # matrice intra groupe "
   ]
  },
  {
   "cell_type": "code",
   "execution_count": null,
   "id": "b790703d",
   "metadata": {},
   "outputs": [],
   "source": []
  },
  {
   "cell_type": "code",
   "execution_count": 16,
   "id": "6edc697a",
   "metadata": {},
   "outputs": [
    {
     "name": "stdout",
     "output_type": "stream",
     "text": [
      "[76, 12, 1, 9, 2]\n"
     ]
    }
   ],
   "source": [
    "ItemC = []\n",
    "\n",
    "\n",
    "\n",
    "Len = [(len(G[u])-1) for u in G]\n",
    "for i in G:\n",
    "    ItemC.append(G[i][ra.randint(0, Len[i])])\n",
    "\n",
    "#print(ItemC)\n",
    "\n",
    "def Fit():    \n",
    "    s = []\n",
    "    for i in G:\n",
    "        s.append([0 for i in range(D)]) \n",
    "        \n",
    "    for j in G:    \n",
    "        for i in G[j]:\n",
    "            for x in range(D):\n",
    "                s[j][x] += (i[x] / len(G[j]))\n",
    "\n",
    "    for i in G:\n",
    "        G[i].clear()\n",
    "\n",
    "    Dist = [0 for i in G]\n",
    "    for i in range(T):\n",
    "        for x in G:\n",
    "            Dist[x] = distance.cityblock(s[x], det[i])\n",
    "        for x in G:  \n",
    "            if (Dist[x] == min(Dist)):\n",
    "                G[x].append(det[i])\n",
    "\n",
    "                \n",
    "    L = []            \n",
    "    for i in G:\n",
    "        L.append(len(G[i]))\n",
    "    return L\n",
    "\n",
    "c = Fit()  \n",
    "while (c != Fit()):\n",
    "    c = Fit()\n",
    "print(c)  "
   ]
  },
  {
   "cell_type": "code",
   "execution_count": 17,
   "id": "bde8c999",
   "metadata": {},
   "outputs": [
    {
     "name": "stdout",
     "output_type": "stream",
     "text": [
      "les élements du Groupe  1 sont\n",
      "[-0.10096752201287112, 0.10554907474573123]\n",
      "[-1.0779906549275202, -1.0203190691597912]\n",
      "[-0.47200332107242715, 0.24085749113346974]\n",
      "[-0.5786493007941436, 0.12682398298279704]\n",
      "[-1.0816642767003872, -0.4807873962678023]\n",
      "[-0.6119091381874149, -0.5837579521352008]\n",
      "[-0.4175153739715155, -0.8739477004887783]\n",
      "[-1.0385423674336478, -1.0032991425701385]\n",
      "[-0.3221368113652366, -0.6552416438117419]\n",
      "[-0.9769660561736808, -0.6875795043320819]\n",
      "[-0.8095820413012423, -0.7879970712110326]\n",
      "[-0.41074752714834806, -0.22293550843456478]\n",
      "[-0.8555762790011294, -0.7165133795344915]\n",
      "[0.41845547597285515, 0.17958575541072022]\n",
      "[-0.6836803662465795, -0.6126918273376103]\n",
      "[-0.18033254541460622, -0.22633949375249532]\n",
      "[-0.30894629023447284, -0.7156623832050087]\n",
      "[-0.4945381553033019, -0.5284431907188297]\n",
      "[-0.5020826402865051, -0.8339508730030947]\n",
      "[-0.6762714847516365, -0.3948367669900565]\n",
      "[-0.15900581498823124, -0.24506141300111323]\n",
      "[-1.0144049465233345, -1.0330840141020305]\n",
      "[-0.8462442934908604, -0.6007778787248534]\n",
      "[-0.7542434905012442, -0.6067348530312319]\n",
      "[-0.4596634036407501, -0.2842072441573143]\n",
      "[-0.9988352005530965, -0.1940016332321553]\n",
      "[-0.6969695080960778, 0.04512833535246435]\n",
      "[0.08292313565778466, -0.23484945704732163]\n",
      "[-0.8622331775157206, -0.456108502712806]\n",
      "[-0.8854583567777381, -0.7131093942165609]\n",
      "[-1.032452538051781, -0.8901166307489484]\n",
      "[-0.8591882628247872, -0.7871460748815499]\n",
      "[-1.0398121091873567, -1.0381899920789264]\n",
      "[-0.8754113710566425, -0.9088385499975663]\n",
      "[-0.8067836784071457, -0.775232126268793]\n",
      "[-0.6346781966252846, -0.5241882090714166]\n",
      "[-0.6491138043300736, -0.8084209831186157]\n",
      "[0.1380521174304716, -0.9173485132923926]\n",
      "[-0.5557569664578556, -0.6407747062105371]\n",
      "[-0.046491902501801394, -0.19059764791422476]\n",
      "[-0.4030797662667266, -0.4850423779152155]\n",
      "[-0.7280843448568699, -0.488446363233146]\n",
      "[-0.20262082784864416, -0.34122399823265065]\n",
      "[-0.7602716819339016, -1.039040988408409]\n",
      "[-0.9060947421729703, -0.8696927188413652]\n",
      "[-0.5978556857677227, -0.8348018693325773]\n",
      "[-0.9942493371319339, -0.9437293995063543]\n",
      "[-0.7741648756856498, -0.88415965644257]\n",
      "[-0.7369232267734657, -0.46802245132556286]\n",
      "[-0.56754214234665, -0.5097212714702118]\n",
      "[-0.4889044467455832, -0.3122901230302412]\n",
      "[-0.7244723610332122, -0.6194997979734713]\n",
      "[-0.7720075474633287, -0.8952226087258441]\n",
      "[0.2270696436783637, -0.6356687282336414]\n",
      "[-0.8818217177743967, -0.9564943444485937]\n",
      "[-0.2714211067559265, -0.5488671026264129]\n",
      "[-0.7075712353600561, -0.6186488016439887]\n",
      "[-0.9259051790487994, -0.8858616491015352]\n",
      "[-0.12324347685706737, -0.48674437057418074]\n",
      "[-0.27926145389533363, -0.11400797826078786]\n",
      "[-0.7960340200650656, -0.9820242343330726]\n",
      "[-0.02621301721198253, -0.7097054088986303]\n",
      "[-0.9977996830063823, -0.7411922730894878]\n",
      "[-0.8045893674152991, -0.9496863738127327]\n",
      "[-0.7523573692554434, -0.31654510467765434]\n",
      "[-0.9301335423645488, -0.9241564839282537]\n",
      "[-0.7835954819146538, -0.9207524986103232]\n",
      "[-0.6464510449242371, -0.28250525149834904]\n",
      "[-1.0460498696473253, -1.041593977396857]\n",
      "[-0.18098590767622344, -0.9939381829458295]\n",
      "[-0.5208205768460945, -0.8092719794480984]\n",
      "[-0.8000651419433458, -0.8450138252863689]\n",
      "[-0.960114240859892, -0.9020305793617053]\n",
      "[-0.5747907651736491, -0.6348177319041587]\n",
      "[-0.5902618904251523, -0.7343843024536267]\n",
      "[-1.0474675424791362, -0.9479843811537674]\n",
      "les élements du Groupe  2 sont\n",
      "[-0.8380217910663562, 1.4850141248370778]\n",
      "[-0.02978801826611464, 1.0969597985929977]\n",
      "[0.10048995118239978, 2.198149048943524]\n",
      "[0.24538844218333083, 2.3300534800133317]\n",
      "[0.07000382150354133, 2.634710165968114]\n",
      "[0.04541027976908004, 1.695210218219288]\n",
      "[-0.32663638165750636, 1.6254285192017122]\n",
      "[0.5027885180808499, 0.8527238520314823]\n",
      "[-0.5428006695340868, 1.3769375909927837]\n",
      "[0.4055854721779794, 5.981678729823306]\n",
      "[-0.14555641447078912, 1.491822095472939]\n",
      "[-0.037122934222006576, 2.7589556300725784]\n",
      "les élements du Groupe  3 sont\n",
      "[17.4301349748305, 5.015797895860519]\n",
      "les élements du Groupe  4 sont\n",
      "[1.1952169119068916, 0.25617542506415714]\n",
      "[2.251173602578812, -0.12081594889664893]\n",
      "[2.2544280862970556, 0.20086066364778604]\n",
      "[6.981356118019873, -0.43057861282832705]\n",
      "[2.2079037622339697, -0.12336893788509681]\n",
      "[2.368593895822292, -0.7190663685229394]\n",
      "[1.1360814634356082, -0.497807322857455]\n",
      "[0.8858190620565115, -0.07826613242251731]\n",
      "[0.7813550657368001, -0.16421676170026317]\n",
      "les élements du Groupe  5 sont\n",
      "[4.563299370543897, 7.493048210984461]\n",
      "[5.708470828901179, 10.808529910648796]\n"
     ]
    }
   ],
   "source": [
    "for i in G:\n",
    "    print(\"les élements du Groupe \", i+1, \"sont\")\n",
    "    for k in G[i]:\n",
    "        print(k)"
   ]
  },
  {
   "cell_type": "code",
   "execution_count": 18,
   "id": "ce1e18c1",
   "metadata": {},
   "outputs": [],
   "source": [
    "colone1 = []\n",
    "colone2 = []\n",
    "colone3 = []\n",
    "G[1]\n",
    "\n",
    "for i in G:\n",
    "    for x in G[i]:\n",
    "        colone1.append(x[0])\n",
    "        colone2.append(x[1])\n",
    "        colone3.append(i)"
   ]
  },
  {
   "cell_type": "code",
   "execution_count": 19,
   "id": "e0bb7cbd",
   "metadata": {},
   "outputs": [
    {
     "data": {
      "image/png": "[encoded data removed]",
      "text/plain": [
       "<Figure size 432x288 with 1 Axes>"
      ]
     },
     "metadata": {
      "needs_background": "light"
     },
     "output_type": "display_data"
    }
   ],
   "source": [
    "plt.scatter(colone1, colone2, c=colone3)\n",
    "plt.show()"
   ]
  },
  {
   "cell_type": "code",
   "execution_count": 20,
   "id": "0991fbc6",
   "metadata": {},
   "outputs": [
    {
     "data": {
      "text/plain": [
       "<matplotlib.collections.PathCollection at 0x22d38280d30>"
      ]
     },
     "execution_count": 20,
     "metadata": {},
     "output_type": "execute_result"
    },
    {
     "data": {
      "image/png": "[encoded data removed]",
      "text/plain": [
       "<Figure size 432x288 with 1 Axes>"
      ]
     },
     "metadata": {
      "needs_background": "light"
     },
     "output_type": "display_data"
    }
   ],
   "source": [
    "model= KMeans(n_clusters=len(G))\n",
    "model.fit(dk)\n",
    "plt.scatter(dk.popularity, dk.vote_count, c=model.labels_, s=20)"
   ]
  },
  {
   "cell_type": "code",
   "execution_count": null,
   "id": "13477481",
   "metadata": {},
   "outputs": [],
   "source": []
  }
 ],
 "metadata": {
  "kernelspec": {
   "display_name": "Python 3",
   "language": "python",
   "name": "python3"
  },
  "language_info": {
   "codemirror_mode": {
    "name": "ipython",
    "version": 3
   },
   "file_extension": ".py",
   "mimetype": "text/x-python",
   "name": "python",
   "nbconvert_exporter": "python",
   "pygments_lexer": "ipython3",
   "version": "3.10.6 (tags/v3.10.6:9c7b4bd, Aug  1 2022, 21:53:49) [MSC v.1932 64 bit (AMD64)]"
  },
  "vscode": {
   "interpreter": {
    "hash": "bc123c264329329055905c61aa8e1bcfb1aa50782921cabd93a2385e96624bc8"
   }
  }
 },
 "nbformat": 4,
 "nbformat_minor": 5
}
